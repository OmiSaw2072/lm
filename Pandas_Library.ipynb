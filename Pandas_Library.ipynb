{
  "cells": [
    {
      "cell_type": "code",
      "execution_count": null,
      "metadata": {
        "id": "Rk7hcoy_dRXh"
      },
      "outputs": [],
      "source": [
        "import pandas as pd"
      ]
    },
    {
      "cell_type": "code",
      "execution_count": null,
      "metadata": {
        "id": "68mOzj0bdRXk"
      },
      "outputs": [],
      "source": [
        "df = pd.read_csv('imdb_top_1000.csv')"
      ]
    },
    {
      "cell_type": "code",
      "execution_count": null,
      "metadata": {
        "id": "74-nxXFOdRXl"
      },
      "outputs": [],
      "source": [
        "df"
      ]
    },
    {
      "cell_type": "code",
      "execution_count": null,
      "metadata": {
        "id": "F0XuV6dKdRXl"
      },
      "outputs": [],
      "source": [
        "df.head()"
      ]
    },
    {
      "cell_type": "code",
      "execution_count": null,
      "metadata": {
        "id": "ZGrLvHnkdRXl"
      },
      "outputs": [],
      "source": [
        "df.head(3)"
      ]
    },
    {
      "cell_type": "code",
      "execution_count": null,
      "metadata": {
        "id": "WgMtLwL9dRXl"
      },
      "outputs": [],
      "source": [
        "new_df = df.loc[[1,2]]\n",
        "new_df"
      ]
    },
    {
      "cell_type": "code",
      "execution_count": null,
      "metadata": {
        "id": "S5l3kJCrdRXm"
      },
      "outputs": [],
      "source": [
        "movies_df = pd.read_csv('imdb_top_1000.csv', index_col = \"Series_Title\")"
      ]
    },
    {
      "cell_type": "code",
      "execution_count": null,
      "metadata": {
        "id": "vjEboZkbdRXm"
      },
      "outputs": [],
      "source": [
        "movies_df.head()"
      ]
    },
    {
      "cell_type": "code",
      "execution_count": null,
      "metadata": {
        "id": "H57XZzLIdRXm"
      },
      "outputs": [],
      "source": [
        "df2 = movies_df.loc[[1,2]]\n",
        "df2"
      ]
    },
    {
      "cell_type": "code",
      "execution_count": null,
      "metadata": {
        "id": "1Lx3sD5ldRXn"
      },
      "outputs": [],
      "source": [
        "df2 = movies_df.iloc[[1,2]]\n",
        "df2"
      ]
    },
    {
      "cell_type": "code",
      "execution_count": null,
      "metadata": {
        "id": "eJOr5_5AdRXn"
      },
      "outputs": [],
      "source": [
        "df3=movies_df.loc[['The Shawshank Redemption', 'The Dark Knight']]\n",
        "df3"
      ]
    },
    {
      "cell_type": "code",
      "execution_count": null,
      "metadata": {
        "id": "fleft4SRdRXn"
      },
      "outputs": [],
      "source": [
        "df4=movies_df.iloc[[0,2]]\n",
        "df4"
      ]
    },
    {
      "cell_type": "code",
      "execution_count": null,
      "metadata": {
        "id": "sCY9DIG2dRXn"
      },
      "outputs": [],
      "source": [
        "temp_df = movies_df.append(movies_df)\n",
        "temp_df"
      ]
    },
    {
      "cell_type": "code",
      "execution_count": null,
      "metadata": {
        "id": "yX1Qu890dRXo"
      },
      "outputs": [],
      "source": [
        "temp_df.drop_duplicates()\n",
        "temp_df"
      ]
    },
    {
      "cell_type": "code",
      "execution_count": null,
      "metadata": {
        "id": "EkILr7RqdRXo"
      },
      "outputs": [],
      "source": [
        "temp_df = temp_df.drop_duplicates()\n",
        "temp_df.shape"
      ]
    },
    {
      "cell_type": "code",
      "execution_count": null,
      "metadata": {
        "id": "VLDPFK1kdRXo"
      },
      "outputs": [],
      "source": [
        "temp_df = movies_df.append(movies_df)\n",
        "temp_df.shape"
      ]
    },
    {
      "cell_type": "code",
      "execution_count": null,
      "metadata": {
        "id": "fO0poRucdRXo"
      },
      "outputs": [],
      "source": [
        "temp_df.drop_duplicates(inplace = True)\n",
        "temp_df.shape"
      ]
    },
    {
      "cell_type": "code",
      "execution_count": null,
      "metadata": {
        "id": "mp3acVPIdRXo"
      },
      "outputs": [],
      "source": [
        "temp_df = movies_df.append(movies_df)\n",
        "temp_df.drop_duplicates(inplace = True, keep = 'last')  #False, First, Last\n",
        "temp_df.shape"
      ]
    },
    {
      "cell_type": "code",
      "execution_count": null,
      "metadata": {
        "id": "lsH43lGBdRXo"
      },
      "outputs": [],
      "source": [
        "movies_df.columns"
      ]
    },
    {
      "cell_type": "code",
      "execution_count": null,
      "metadata": {
        "id": "EXlTTeHgdRXo"
      },
      "outputs": [],
      "source": [
        "movies_df.rename(columns={\n",
        "'Runtime': 'RT',\n",
        "'No_of_Votes': 'votes'\n",
        "})\n",
        "movies_df.head()"
      ]
    },
    {
      "cell_type": "code",
      "execution_count": null,
      "metadata": {
        "id": "eluxd1M6dRXp"
      },
      "outputs": [],
      "source": [
        "movies_df.rename(columns={\n",
        "'Runtime': 'RT',\n",
        "'No_of_Votes': 'votes'\n",
        "}, inplace = True)\n",
        "movies_df.head()"
      ]
    },
    {
      "cell_type": "code",
      "execution_count": null,
      "metadata": {
        "id": "uZ91sF3fdRXp"
      },
      "outputs": [],
      "source": [
        "movies_df.columns = [col.lower() for col in movies_df]"
      ]
    },
    {
      "cell_type": "code",
      "execution_count": null,
      "metadata": {
        "id": "oLXWxBl2dRXp"
      },
      "outputs": [],
      "source": [
        "movies_df.head()"
      ]
    },
    {
      "cell_type": "code",
      "execution_count": null,
      "metadata": {
        "id": "yG1hJ0xjdRXp"
      },
      "outputs": [],
      "source": [
        "movies_df"
      ]
    },
    {
      "cell_type": "code",
      "execution_count": null,
      "metadata": {
        "id": "Vd7ok66odRXp"
      },
      "outputs": [],
      "source": [
        "movies_df.info()"
      ]
    },
    {
      "cell_type": "code",
      "execution_count": null,
      "metadata": {
        "id": "3rIX0SHHdRXp"
      },
      "outputs": [],
      "source": [
        "movies_df.isnull()"
      ]
    },
    {
      "cell_type": "code",
      "execution_count": null,
      "metadata": {
        "id": "47FYoKL_dRXp"
      },
      "outputs": [],
      "source": [
        "movies_df.isnull().sum()"
      ]
    },
    {
      "cell_type": "code",
      "execution_count": null,
      "metadata": {
        "id": "J7WjUDQFdRXp"
      },
      "outputs": [],
      "source": [
        "movies_df.describe()"
      ]
    },
    {
      "cell_type": "code",
      "execution_count": null,
      "metadata": {
        "id": "S3Z2QZOvdRXp"
      },
      "outputs": [],
      "source": [
        "genre = movies_df['genre']\n",
        "type(genre)"
      ]
    },
    {
      "cell_type": "code",
      "execution_count": null,
      "metadata": {
        "id": "5kdMWC5qdRXq"
      },
      "outputs": [],
      "source": [
        "genre.array[1]"
      ]
    },
    {
      "cell_type": "code",
      "execution_count": null,
      "metadata": {
        "id": "sPh43YK7dRXq"
      },
      "outputs": [],
      "source": [
        "movies_df['certificate'].unique()"
      ]
    },
    {
      "cell_type": "code",
      "execution_count": null,
      "metadata": {
        "id": "yI_ztRXPdRXq"
      },
      "outputs": [],
      "source": [
        "movies_df['certificate'].value_counts().sort_values(ascending=False)"
      ]
    },
    {
      "cell_type": "code",
      "execution_count": null,
      "metadata": {
        "id": "sxgyHIE_dRXq"
      },
      "outputs": [],
      "source": [
        "movies_df.groupby('released_year').size().sort_values(ascending=False)"
      ]
    },
    {
      "cell_type": "code",
      "execution_count": null,
      "metadata": {
        "id": "SfaKTP4GdRXq"
      },
      "outputs": [],
      "source": [
        "movies_df.isnull().mean()*100"
      ]
    },
    {
      "cell_type": "code",
      "execution_count": null,
      "metadata": {
        "id": "muT5018JdRXq"
      },
      "outputs": [],
      "source": [
        "movies_df= movies_df.dropna()"
      ]
    },
    {
      "cell_type": "code",
      "execution_count": null,
      "metadata": {
        "id": "1Vre3yfzdRXq"
      },
      "outputs": [],
      "source": [
        "movies_df"
      ]
    },
    {
      "cell_type": "code",
      "execution_count": null,
      "metadata": {
        "id": "1lGkqIM1dRXq"
      },
      "outputs": [],
      "source": [
        "movies_df.isnull().sum()"
      ]
    },
    {
      "cell_type": "code",
      "execution_count": null,
      "metadata": {
        "id": "xBD0k-STdRXq"
      },
      "outputs": [],
      "source": [
        "data={'Temp':['Hot','Cold','Very Hot','Warm','Hot','Warm','Warm','Hot','Hot','Cold'],\n",
        "     'color':['Red','Yellow','Blue','Blue','Red','Yellow','Yellow','Red','Yellow','Blue'],\n",
        "     'Target':[1,1,1,0,1,0,1,0,1,0]}"
      ]
    },
    {
      "cell_type": "code",
      "execution_count": null,
      "metadata": {
        "id": "RdH7bwrldRXr"
      },
      "outputs": [],
      "source": [
        "import pandas as pd"
      ]
    },
    {
      "cell_type": "code",
      "execution_count": null,
      "metadata": {
        "id": "5NqCEUs3dRXv"
      },
      "outputs": [],
      "source": [
        "df=pd.DataFrame(data)"
      ]
    },
    {
      "cell_type": "code",
      "execution_count": null,
      "metadata": {
        "id": "uHaj-flQdRXv"
      },
      "outputs": [],
      "source": [
        "df"
      ]
    },
    {
      "cell_type": "code",
      "execution_count": null,
      "metadata": {
        "id": "M8OK5VShdRXv"
      },
      "outputs": [],
      "source": []
    }
  ],
  "metadata": {
    "kernelspec": {
      "display_name": "Python 3",
      "language": "python",
      "name": "python3"
    },
    "language_info": {
      "codemirror_mode": {
        "name": "ipython",
        "version": 3
      },
      "file_extension": ".py",
      "mimetype": "text/x-python",
      "name": "python",
      "nbconvert_exporter": "python",
      "pygments_lexer": "ipython3",
      "version": "3.8.5"
    },
    "colab": {
      "provenance": []
    }
  },
  "nbformat": 4,
  "nbformat_minor": 0
}