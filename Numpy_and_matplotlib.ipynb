{
  "cells": [
    {
      "cell_type": "markdown",
      "metadata": {
        "id": "mIwXIE6OdfU7"
      },
      "source": [
        "# NumPy\n",
        "NumPy is a Python package which stands for Numerical Python, is a library consisting of multidimensional array objects and a collection of routines for processing those arrays. Using NumPy, mathematical and logical operations on arrays can be performed. (which is not possible using lists).\n",
        "Using NumPy, a developer can perform the following operations −\n",
        "1. Mathematical and logical operations on arrays.\n",
        "2. Fourier transforms and routines for shape manipulation.\n",
        "3. Operations related to linear algebra.\n",
        "\n",
        "NumPy has in-built functions for linear algebra and random number generation."
      ],
      "id": "mIwXIE6OdfU7"
    },
    {
      "cell_type": "code",
      "execution_count": null,
      "metadata": {
        "id": "Fzzkw_V9dfU_"
      },
      "outputs": [],
      "source": [
        "A=[10,24,45]\n",
        "B=[2,6,9]"
      ],
      "id": "Fzzkw_V9dfU_"
    },
    {
      "cell_type": "code",
      "execution_count": null,
      "metadata": {
        "scrolled": true,
        "id": "SMqt9kmTdfVA",
        "outputId": "16f20f0c-bf58-46c3-aa4b-51d1e4103501"
      },
      "outputs": [
        {
          "data": {
            "text/plain": [
              "[10, 24, 45, 2, 6, 9]"
            ]
          },
          "execution_count": 2,
          "metadata": {},
          "output_type": "execute_result"
        }
      ],
      "source": [
        "A+B #list addition will append second list after first list"
      ],
      "id": "SMqt9kmTdfVA"
    },
    {
      "cell_type": "code",
      "execution_count": null,
      "metadata": {
        "id": "N5sAb234dfVA"
      },
      "outputs": [],
      "source": [
        "import numpy as np"
      ],
      "id": "N5sAb234dfVA"
    },
    {
      "cell_type": "code",
      "execution_count": null,
      "metadata": {
        "id": "NqJUhE-0dfVB"
      },
      "outputs": [],
      "source": [
        "arr1=np.array([23,45,67,79,42,34,89,90,65,43])"
      ],
      "id": "NqJUhE-0dfVB"
    },
    {
      "cell_type": "code",
      "execution_count": null,
      "metadata": {
        "id": "jxfxczxmdfVB",
        "outputId": "cd28b52f-ba4c-414f-cdc8-d140d6e0c4c0"
      },
      "outputs": [
        {
          "data": {
            "text/plain": [
              "65"
            ]
          },
          "execution_count": 5,
          "metadata": {},
          "output_type": "execute_result"
        }
      ],
      "source": [
        "arr1[-2]"
      ],
      "id": "jxfxczxmdfVB"
    },
    {
      "cell_type": "code",
      "execution_count": null,
      "metadata": {
        "id": "pO7qRwkkdfVB",
        "outputId": "687282ac-9e75-466c-bd47-a3b65a80be9b"
      },
      "outputs": [
        {
          "data": {
            "text/plain": [
              "array([23, 45, 67])"
            ]
          },
          "execution_count": 6,
          "metadata": {},
          "output_type": "execute_result"
        }
      ],
      "source": [
        "arr1[0:3]"
      ],
      "id": "pO7qRwkkdfVB"
    },
    {
      "cell_type": "code",
      "execution_count": null,
      "metadata": {
        "id": "q3dXC7qwdfVC",
        "outputId": "81418ea1-f7a5-41f3-ad1a-48575151309c"
      },
      "outputs": [
        {
          "data": {
            "text/plain": [
              "array([45, 67, 79])"
            ]
          },
          "execution_count": 7,
          "metadata": {},
          "output_type": "execute_result"
        }
      ],
      "source": [
        "arr1[1:4]"
      ],
      "id": "q3dXC7qwdfVC"
    },
    {
      "cell_type": "code",
      "execution_count": null,
      "metadata": {
        "id": "pMgZtyY9dfVC",
        "outputId": "17f9fe31-df77-4b98-d3f7-3ab805ff8e50"
      },
      "outputs": [
        {
          "data": {
            "text/plain": [
              "array([[1, 2, 3],\n",
              "       [4, 5, 6],\n",
              "       [7, 8, 9]])"
            ]
          },
          "execution_count": 8,
          "metadata": {},
          "output_type": "execute_result"
        }
      ],
      "source": [
        "arr5=np.array([[1,2,3],[4,5,6],[7,8,9]])\n",
        "arr5"
      ],
      "id": "pMgZtyY9dfVC"
    },
    {
      "cell_type": "code",
      "execution_count": null,
      "metadata": {
        "id": "d3uGC3l6dfVC",
        "outputId": "84c5480d-9a14-4c34-fa65-5c9fc95acdd7"
      },
      "outputs": [
        {
          "data": {
            "text/plain": [
              "8"
            ]
          },
          "execution_count": 9,
          "metadata": {},
          "output_type": "execute_result"
        }
      ],
      "source": [
        "#arr5[r,c]\n",
        "arr5[2,1]"
      ],
      "id": "d3uGC3l6dfVC"
    },
    {
      "cell_type": "code",
      "execution_count": null,
      "metadata": {
        "id": "Ck742R3_dfVD",
        "outputId": "a193ddf5-21ef-4d26-cb36-1ffd07841b20"
      },
      "outputs": [
        {
          "data": {
            "text/plain": [
              "8"
            ]
          },
          "execution_count": 10,
          "metadata": {},
          "output_type": "execute_result"
        }
      ],
      "source": [
        "arr5[2][1]"
      ],
      "id": "Ck742R3_dfVD"
    },
    {
      "cell_type": "code",
      "execution_count": null,
      "metadata": {
        "id": "EU20alIRdfVD",
        "outputId": "06c2a1c6-2dd5-4bdc-eb63-4ca945f274bc"
      },
      "outputs": [
        {
          "data": {
            "text/plain": [
              "array([[5, 6],\n",
              "       [8, 9]])"
            ]
          },
          "execution_count": 11,
          "metadata": {},
          "output_type": "execute_result"
        }
      ],
      "source": [
        "arr5[1:,1:]"
      ],
      "id": "EU20alIRdfVD"
    },
    {
      "cell_type": "code",
      "execution_count": null,
      "metadata": {
        "id": "qL-RVX7JdfVD",
        "outputId": "5d71fb53-559f-42ca-fd10-a4b1956a43f6"
      },
      "outputs": [
        {
          "data": {
            "text/plain": [
              "array([10, 24, 45])"
            ]
          },
          "execution_count": 12,
          "metadata": {},
          "output_type": "execute_result"
        }
      ],
      "source": [
        "arr1=np.array(A)\n",
        "arr1"
      ],
      "id": "qL-RVX7JdfVD"
    },
    {
      "cell_type": "code",
      "execution_count": null,
      "metadata": {
        "id": "WEA7GY5LdfVE",
        "outputId": "130d824b-8760-456f-8d2b-0e79054819e0"
      },
      "outputs": [
        {
          "data": {
            "text/plain": [
              "array([2, 6, 9])"
            ]
          },
          "execution_count": 13,
          "metadata": {},
          "output_type": "execute_result"
        }
      ],
      "source": [
        "arr2=np.array(B)\n",
        "arr2"
      ],
      "id": "WEA7GY5LdfVE"
    },
    {
      "cell_type": "code",
      "execution_count": null,
      "metadata": {
        "id": "sAMDCSXsdfVE",
        "outputId": "4d32ad35-0631-4bd8-b6f8-9a37e729ab7e"
      },
      "outputs": [
        {
          "data": {
            "text/plain": [
              "array([12, 30, 54])"
            ]
          },
          "execution_count": 14,
          "metadata": {},
          "output_type": "execute_result"
        }
      ],
      "source": [
        "arr1+arr2 #elementwise operations are possible now"
      ],
      "id": "sAMDCSXsdfVE"
    },
    {
      "cell_type": "code",
      "execution_count": null,
      "metadata": {
        "id": "PhsnrmiWdfVE",
        "outputId": "b9e23843-9afc-499b-ef05-6929ccc0ddce"
      },
      "outputs": [
        {
          "data": {
            "text/plain": [
              "array([5., 4., 5.])"
            ]
          },
          "execution_count": 15,
          "metadata": {},
          "output_type": "execute_result"
        }
      ],
      "source": [
        "arr1/arr2"
      ],
      "id": "PhsnrmiWdfVE"
    },
    {
      "cell_type": "code",
      "execution_count": null,
      "metadata": {
        "id": "UKuaJnYvdfVE",
        "outputId": "b91f325d-6609-4390-8de4-433e8d4f9f4f"
      },
      "outputs": [
        {
          "data": {
            "text/plain": [
              "array([ 3.33333333,  8.        , 15.        ])"
            ]
          },
          "execution_count": 16,
          "metadata": {},
          "output_type": "execute_result"
        }
      ],
      "source": [
        "arr1/3"
      ],
      "id": "UKuaJnYvdfVE"
    },
    {
      "cell_type": "code",
      "execution_count": null,
      "metadata": {
        "id": "d-4fxL3YdfVF",
        "outputId": "b55f5ec1-b90d-4384-c548-2ffc0cfde9eb"
      },
      "outputs": [
        {
          "name": "stdout",
          "output_type": "stream",
          "text": [
            "int32\n"
          ]
        }
      ],
      "source": [
        "print(arr1.dtype)"
      ],
      "id": "d-4fxL3YdfVF"
    },
    {
      "cell_type": "code",
      "execution_count": null,
      "metadata": {
        "id": "ycwof9xWdfVF",
        "outputId": "863d2571-584f-48c1-cde4-31f6ae17da9a"
      },
      "outputs": [
        {
          "data": {
            "text/plain": [
              "numpy.ndarray"
            ]
          },
          "execution_count": 18,
          "metadata": {},
          "output_type": "execute_result"
        }
      ],
      "source": [
        "type(arr1)"
      ],
      "id": "ycwof9xWdfVF"
    },
    {
      "cell_type": "code",
      "execution_count": null,
      "metadata": {
        "id": "y235t9iCdfVF",
        "outputId": "3065d06c-2680-41e0-f43e-2f7ea2c65275"
      },
      "outputs": [
        {
          "name": "stdout",
          "output_type": "stream",
          "text": [
            "float64\n",
            "<class 'numpy.ndarray'>\n"
          ]
        }
      ],
      "source": [
        "s=arr1/arr2\n",
        "print(s.dtype)\n",
        "print(type(s))"
      ],
      "id": "y235t9iCdfVF"
    },
    {
      "cell_type": "code",
      "execution_count": null,
      "metadata": {
        "id": "s4cg7HMNdfVF",
        "outputId": "41193f24-8139-48ce-8781-9582ea65a630"
      },
      "outputs": [
        {
          "data": {
            "text/plain": [
              "1"
            ]
          },
          "execution_count": 20,
          "metadata": {},
          "output_type": "execute_result"
        }
      ],
      "source": [
        "arr1.ndim"
      ],
      "id": "s4cg7HMNdfVF"
    },
    {
      "cell_type": "code",
      "execution_count": null,
      "metadata": {
        "id": "Gyerc825dfVF",
        "outputId": "35590e75-389a-4f81-c84e-39d106792dac"
      },
      "outputs": [
        {
          "data": {
            "text/plain": [
              "(3,)"
            ]
          },
          "execution_count": 21,
          "metadata": {},
          "output_type": "execute_result"
        }
      ],
      "source": [
        "arr1.shape"
      ],
      "id": "Gyerc825dfVF"
    },
    {
      "cell_type": "code",
      "execution_count": null,
      "metadata": {
        "id": "jDXZTRW1dfVG"
      },
      "outputs": [],
      "source": [
        "xyz=np.array([2,3,4,5])"
      ],
      "id": "jDXZTRW1dfVG"
    },
    {
      "cell_type": "code",
      "execution_count": null,
      "metadata": {
        "id": "5bHmWcFBdfVG",
        "outputId": "5677cc95-60ac-4b35-9199-660556d76647"
      },
      "outputs": [
        {
          "data": {
            "text/plain": [
              "(4,)"
            ]
          },
          "execution_count": 23,
          "metadata": {},
          "output_type": "execute_result"
        }
      ],
      "source": [
        "xyz.shape"
      ],
      "id": "5bHmWcFBdfVG"
    },
    {
      "cell_type": "markdown",
      "metadata": {
        "id": "z2cZgJ_adfVG"
      },
      "source": [
        "## 2D arrays:"
      ],
      "id": "z2cZgJ_adfVG"
    },
    {
      "cell_type": "code",
      "execution_count": null,
      "metadata": {
        "id": "b6CgH53mdfVG"
      },
      "outputs": [],
      "source": [
        "A=[10,20,30]\n",
        "B=[45,67,89]\n",
        "\n",
        "arr4=np.array([A,B])"
      ],
      "id": "b6CgH53mdfVG"
    },
    {
      "cell_type": "code",
      "execution_count": null,
      "metadata": {
        "id": "mm0CYy6GdfVG",
        "outputId": "ed36ec79-89b6-48c8-c4a4-16b2ad10f0db"
      },
      "outputs": [
        {
          "data": {
            "text/plain": [
              "array([[10, 20, 30],\n",
              "       [45, 67, 89]])"
            ]
          },
          "execution_count": 25,
          "metadata": {},
          "output_type": "execute_result"
        }
      ],
      "source": [
        "arr4"
      ],
      "id": "mm0CYy6GdfVG"
    },
    {
      "cell_type": "code",
      "execution_count": null,
      "metadata": {
        "id": "ky4ZNvsrdfVG",
        "outputId": "e6eeb0aa-5a2c-4e42-8b3b-5694ebca3bd3"
      },
      "outputs": [
        {
          "data": {
            "text/plain": [
              "2"
            ]
          },
          "execution_count": 26,
          "metadata": {},
          "output_type": "execute_result"
        }
      ],
      "source": [
        "arr4.ndim"
      ],
      "id": "ky4ZNvsrdfVG"
    },
    {
      "cell_type": "code",
      "execution_count": null,
      "metadata": {
        "id": "I5BTYAtxdfVG",
        "outputId": "4fc4ec55-4158-4437-90c9-8f3926389567"
      },
      "outputs": [
        {
          "data": {
            "text/plain": [
              "(2, 3)"
            ]
          },
          "execution_count": 27,
          "metadata": {},
          "output_type": "execute_result"
        }
      ],
      "source": [
        "arr4.shape"
      ],
      "id": "I5BTYAtxdfVG"
    },
    {
      "cell_type": "code",
      "execution_count": null,
      "metadata": {
        "id": "pBpn2pNEdfVG"
      },
      "outputs": [],
      "source": [
        "arr5=np.array([[1,2,3],[4,5,6],[7,8,9]])"
      ],
      "id": "pBpn2pNEdfVG"
    },
    {
      "cell_type": "code",
      "execution_count": null,
      "metadata": {
        "id": "sGZr-OvMdfVH",
        "outputId": "1f319228-6490-427a-a72a-5c41f7fcd617"
      },
      "outputs": [
        {
          "data": {
            "text/plain": [
              "array([[1, 2, 3],\n",
              "       [4, 5, 6],\n",
              "       [7, 8, 9]])"
            ]
          },
          "execution_count": 29,
          "metadata": {},
          "output_type": "execute_result"
        }
      ],
      "source": [
        "arr5"
      ],
      "id": "sGZr-OvMdfVH"
    },
    {
      "cell_type": "code",
      "execution_count": null,
      "metadata": {
        "id": "99UqgLxRdfVH",
        "outputId": "79831cc4-4848-4196-f52b-a0d87475c110"
      },
      "outputs": [
        {
          "data": {
            "text/plain": [
              "2"
            ]
          },
          "execution_count": 30,
          "metadata": {},
          "output_type": "execute_result"
        }
      ],
      "source": [
        "arr5.ndim"
      ],
      "id": "99UqgLxRdfVH"
    },
    {
      "cell_type": "code",
      "execution_count": null,
      "metadata": {
        "id": "yl43n4_6dfVH",
        "outputId": "fb33a162-c939-46ac-8121-0b0dd4256d21"
      },
      "outputs": [
        {
          "data": {
            "text/plain": [
              "(3, 3)"
            ]
          },
          "execution_count": 31,
          "metadata": {},
          "output_type": "execute_result"
        }
      ],
      "source": [
        "arr5.shape"
      ],
      "id": "yl43n4_6dfVH"
    },
    {
      "cell_type": "markdown",
      "metadata": {
        "id": "sm-wNyO0dfVH"
      },
      "source": [
        "## 3D arrays:"
      ],
      "id": "sm-wNyO0dfVH"
    },
    {
      "cell_type": "code",
      "execution_count": null,
      "metadata": {
        "id": "up1P2j9KdfVH"
      },
      "outputs": [],
      "source": [
        "\n",
        "arr7=np.array([[[1,2,3],[4,5,6],[7,8,9]],[[10,11,12],[13,14,15],[16,17,18]],[[19,20,21],[22,23,24],[25,26,27]]])"
      ],
      "id": "up1P2j9KdfVH"
    },
    {
      "cell_type": "code",
      "execution_count": null,
      "metadata": {
        "id": "DQ4dNyDbdfVH",
        "outputId": "81cd4b74-5b74-4758-db68-fa0090285b97"
      },
      "outputs": [
        {
          "data": {
            "text/plain": [
              "array([[[ 1,  2,  3],\n",
              "        [ 4,  5,  6],\n",
              "        [ 7,  8,  9]],\n",
              "\n",
              "       [[10, 11, 12],\n",
              "        [13, 14, 15],\n",
              "        [16, 17, 18]],\n",
              "\n",
              "       [[19, 20, 21],\n",
              "        [22, 23, 24],\n",
              "        [25, 26, 27]]])"
            ]
          },
          "execution_count": 33,
          "metadata": {},
          "output_type": "execute_result"
        }
      ],
      "source": [
        "arr7"
      ],
      "id": "DQ4dNyDbdfVH"
    },
    {
      "cell_type": "code",
      "execution_count": null,
      "metadata": {
        "id": "y4WtHEwAdfVH",
        "outputId": "2079fe06-d697-441f-8537-a450ed359c12"
      },
      "outputs": [
        {
          "data": {
            "text/plain": [
              "18"
            ]
          },
          "execution_count": 34,
          "metadata": {},
          "output_type": "execute_result"
        }
      ],
      "source": [
        "arr7[1,2,2]  #(m,r,c)"
      ],
      "id": "y4WtHEwAdfVH"
    },
    {
      "cell_type": "code",
      "execution_count": null,
      "metadata": {
        "id": "Vnx3KbMddfVH",
        "outputId": "c4675d32-c385-4e99-b322-500dd4d0530f"
      },
      "outputs": [
        {
          "data": {
            "text/plain": [
              "23"
            ]
          },
          "execution_count": 35,
          "metadata": {},
          "output_type": "execute_result"
        }
      ],
      "source": [
        "arr7[2,1,1]"
      ],
      "id": "Vnx3KbMddfVH"
    },
    {
      "cell_type": "code",
      "execution_count": null,
      "metadata": {
        "id": "lvhS53G8dfVI",
        "outputId": "a09fd12c-0dbf-4e75-b699-736ffee2fd08"
      },
      "outputs": [
        {
          "data": {
            "text/plain": [
              "array([[ 5,  6],\n",
              "       [14, 15],\n",
              "       [23, 24]])"
            ]
          },
          "execution_count": 36,
          "metadata": {},
          "output_type": "execute_result"
        }
      ],
      "source": [
        "arr7[:,1,1:]"
      ],
      "id": "lvhS53G8dfVI"
    },
    {
      "cell_type": "code",
      "execution_count": null,
      "metadata": {
        "id": "xFL7lvtJdfVM",
        "outputId": "898efaab-69f1-407e-e2e6-79f6939b1349"
      },
      "outputs": [
        {
          "data": {
            "text/plain": [
              "(3, 3, 3)"
            ]
          },
          "execution_count": 37,
          "metadata": {},
          "output_type": "execute_result"
        }
      ],
      "source": [
        "arr7.shape #(m,r,c)"
      ],
      "id": "xFL7lvtJdfVM"
    },
    {
      "cell_type": "code",
      "execution_count": null,
      "metadata": {
        "id": "V5FkCO6tdfVM",
        "outputId": "3699e8e4-aa0c-4f3f-99dd-028b7f8b9dee"
      },
      "outputs": [
        {
          "data": {
            "text/plain": [
              "3"
            ]
          },
          "execution_count": 38,
          "metadata": {},
          "output_type": "execute_result"
        }
      ],
      "source": [
        "arr7.ndim"
      ],
      "id": "V5FkCO6tdfVM"
    },
    {
      "cell_type": "code",
      "execution_count": null,
      "metadata": {
        "id": "8Hm5AfiydfVM",
        "outputId": "dc3ee128-c6e6-44bf-9b21-455a5d23875b"
      },
      "outputs": [
        {
          "data": {
            "text/plain": [
              "array([26, 31, 48, 49, 49])"
            ]
          },
          "execution_count": 39,
          "metadata": {},
          "output_type": "execute_result"
        }
      ],
      "source": [
        "np.random.randint(10,50,5)\n"
      ],
      "id": "8Hm5AfiydfVM"
    },
    {
      "cell_type": "code",
      "execution_count": null,
      "metadata": {
        "id": "AiQz7XqSdfVM",
        "outputId": "55d557de-25fd-406f-dc28-a71a5000d43c"
      },
      "outputs": [
        {
          "data": {
            "text/plain": [
              "array([2, 2, 2, 3, 3, 3, 3, 3, 3, 3, 2, 3, 3, 3, 2, 2, 3, 2, 2, 3, 2, 2,\n",
              "       3, 2, 3, 2, 2, 2, 3, 2, 2, 2, 3, 3, 3, 3, 3, 3, 2, 3, 3, 2, 2, 3,\n",
              "       3, 2, 3, 2, 3, 2, 3, 3, 3, 2, 2, 2, 3, 2, 2, 3, 2, 3, 2, 2, 2])"
            ]
          },
          "execution_count": 40,
          "metadata": {},
          "output_type": "execute_result"
        }
      ],
      "source": [
        "np.random.randint(2,4,65)# start is inclusive and stop is excluded"
      ],
      "id": "AiQz7XqSdfVM"
    },
    {
      "cell_type": "code",
      "execution_count": null,
      "metadata": {
        "id": "Mm27H2pndfVN",
        "outputId": "57884d3a-0e13-42cd-ab7b-c6363dbceaab"
      },
      "outputs": [
        {
          "name": "stdout",
          "output_type": "stream",
          "text": [
            "0.4605109764295884\n"
          ]
        },
        {
          "data": {
            "text/plain": [
              "float"
            ]
          },
          "execution_count": 41,
          "metadata": {},
          "output_type": "execute_result"
        }
      ],
      "source": [
        "x=np.random.rand() #return floating numbers between 0-1\n",
        "print(x)\n",
        "type(x)"
      ],
      "id": "Mm27H2pndfVN"
    },
    {
      "cell_type": "code",
      "execution_count": null,
      "metadata": {
        "id": "KKI6coq3dfVN",
        "outputId": "6f471ff3-8203-4d6e-c707-ac037150da3e"
      },
      "outputs": [
        {
          "data": {
            "text/plain": [
              "array([[0.23067211, 0.30395899],\n",
              "       [0.4978068 , 0.48212317]])"
            ]
          },
          "execution_count": 42,
          "metadata": {},
          "output_type": "execute_result"
        }
      ],
      "source": [
        "x=np.random.rand(2,2)\n",
        "x"
      ],
      "id": "KKI6coq3dfVN"
    },
    {
      "cell_type": "code",
      "execution_count": null,
      "metadata": {
        "id": "k_M8-4RbdfVN",
        "outputId": "921fccb9-ddbf-4a75-f5c0-810726966301"
      },
      "outputs": [
        {
          "data": {
            "text/plain": [
              "array([[0.44453743, 0.4040898 , 0.60938607],\n",
              "       [0.03085226, 0.6069832 , 0.46829506]])"
            ]
          },
          "execution_count": 43,
          "metadata": {},
          "output_type": "execute_result"
        }
      ],
      "source": [
        "x=np.random.rand(2,3)\n",
        "x"
      ],
      "id": "k_M8-4RbdfVN"
    },
    {
      "cell_type": "code",
      "execution_count": null,
      "metadata": {
        "id": "pv3DdzvudfVN",
        "outputId": "9282138b-2337-4b2b-9cef-f62be4752f42"
      },
      "outputs": [
        {
          "data": {
            "text/plain": [
              "array([[[0.40131527, 0.20089532, 0.68562616, 0.08365678],\n",
              "        [0.50748023, 0.59697435, 0.36262287, 0.89171297],\n",
              "        [0.97992244, 0.57088866, 0.16186155, 0.08986663]],\n",
              "\n",
              "       [[0.52082779, 0.84875262, 0.37068869, 0.36599578],\n",
              "        [0.95619785, 0.53843159, 0.2244359 , 0.41505617],\n",
              "        [0.82370349, 0.52379754, 0.2902374 , 0.37644744]]])"
            ]
          },
          "execution_count": 44,
          "metadata": {},
          "output_type": "execute_result"
        }
      ],
      "source": [
        "np.random.rand(2,3,4) #return floating numbers between 0-1"
      ],
      "id": "pv3DdzvudfVN"
    },
    {
      "cell_type": "code",
      "execution_count": null,
      "metadata": {
        "id": "UhT1HD-VdfVN",
        "outputId": "f529bc1b-bea3-47b7-dd41-8589bfef92de"
      },
      "outputs": [
        {
          "data": {
            "text/plain": [
              "array([1121, 1816, 1489,   39,  175,  839,  113, 1012, 1797, 1266,  131,\n",
              "       1865])"
            ]
          },
          "execution_count": 45,
          "metadata": {},
          "output_type": "execute_result"
        }
      ],
      "source": [
        "arr1=np.random.randint(10,2000,12)\n",
        "arr1"
      ],
      "id": "UhT1HD-VdfVN"
    },
    {
      "cell_type": "code",
      "execution_count": null,
      "metadata": {
        "id": "mL4gSp27dfVN",
        "outputId": "3ee478ba-66c0-4ab2-fdcf-d204549e676e"
      },
      "outputs": [
        {
          "data": {
            "text/plain": [
              "1865"
            ]
          },
          "execution_count": 46,
          "metadata": {},
          "output_type": "execute_result"
        }
      ],
      "source": [
        "np.max(arr1)"
      ],
      "id": "mL4gSp27dfVN"
    },
    {
      "cell_type": "code",
      "execution_count": null,
      "metadata": {
        "id": "E79pYEfDdfVN",
        "outputId": "9afceb98-20ee-4ec2-b943-39051bdd22eb"
      },
      "outputs": [
        {
          "data": {
            "text/plain": [
              "39"
            ]
          },
          "execution_count": 47,
          "metadata": {},
          "output_type": "execute_result"
        }
      ],
      "source": [
        "np.min(arr1)"
      ],
      "id": "E79pYEfDdfVN"
    },
    {
      "cell_type": "code",
      "execution_count": null,
      "metadata": {
        "id": "E5luOqLVdfVO",
        "outputId": "17ed9de1-808d-4f73-81ef-cdea9b587b1a"
      },
      "outputs": [
        {
          "data": {
            "text/plain": [
              "971.9166666666666"
            ]
          },
          "execution_count": 48,
          "metadata": {},
          "output_type": "execute_result"
        }
      ],
      "source": [
        "np.mean(arr1)"
      ],
      "id": "E5luOqLVdfVO"
    },
    {
      "cell_type": "code",
      "execution_count": null,
      "metadata": {
        "id": "QDL2_meldfVO",
        "outputId": "adac8932-c732-4963-c51a-eebbad32b8aa"
      },
      "outputs": [
        {
          "data": {
            "text/plain": [
              "1066.5"
            ]
          },
          "execution_count": 49,
          "metadata": {},
          "output_type": "execute_result"
        }
      ],
      "source": [
        "np.median(arr1)"
      ],
      "id": "QDL2_meldfVO"
    },
    {
      "cell_type": "code",
      "execution_count": null,
      "metadata": {
        "id": "htObUEAhdfVO",
        "outputId": "932e947e-73de-4705-d4c2-03a7eab60dd4"
      },
      "outputs": [
        {
          "data": {
            "text/plain": [
              "679.2449801474837"
            ]
          },
          "execution_count": 50,
          "metadata": {},
          "output_type": "execute_result"
        }
      ],
      "source": [
        "np.std(arr1)"
      ],
      "id": "htObUEAhdfVO"
    },
    {
      "cell_type": "code",
      "execution_count": null,
      "metadata": {
        "id": "493xdvDIdfVO",
        "outputId": "06c5d571-7de6-4f0f-8e5b-c5f727fced93"
      },
      "outputs": [
        {
          "data": {
            "text/plain": [
              "461373.74305555556"
            ]
          },
          "execution_count": 51,
          "metadata": {},
          "output_type": "execute_result"
        }
      ],
      "source": [
        "np.var(arr1)"
      ],
      "id": "493xdvDIdfVO"
    },
    {
      "cell_type": "code",
      "execution_count": null,
      "metadata": {
        "id": "tjajAW-qdfVO",
        "outputId": "fc7a5254-2320-4229-e605-2ea1b83bc4c7"
      },
      "outputs": [
        {
          "data": {
            "text/plain": [
              "array([ 0.52147384,  0.15877148, -0.11466503,  0.96379539, -0.8011346 ,\n",
              "       -0.19353254, -0.09718191,  0.39600819,  0.00900203,  0.06179999,\n",
              "       -0.81160339, -0.89392912])"
            ]
          },
          "execution_count": 52,
          "metadata": {},
          "output_type": "execute_result"
        }
      ],
      "source": [
        "np.sin(arr1)"
      ],
      "id": "tjajAW-qdfVO"
    },
    {
      "cell_type": "markdown",
      "metadata": {
        "id": "ck9CBE2ndfVO"
      },
      "source": [
        "## Transposing"
      ],
      "id": "ck9CBE2ndfVO"
    },
    {
      "cell_type": "code",
      "execution_count": null,
      "metadata": {
        "id": "UK25EdNKdfVO"
      },
      "outputs": [],
      "source": [
        "arr2=np.array([[1,2,3],[4,5,6]])"
      ],
      "id": "UK25EdNKdfVO"
    },
    {
      "cell_type": "code",
      "execution_count": null,
      "metadata": {
        "id": "XKra9PZTdfVP",
        "outputId": "cb8a0f30-617a-4a28-ad69-af2c233e190e"
      },
      "outputs": [
        {
          "data": {
            "text/plain": [
              "array([[1, 4],\n",
              "       [2, 5],\n",
              "       [3, 6]])"
            ]
          },
          "execution_count": 54,
          "metadata": {},
          "output_type": "execute_result"
        }
      ],
      "source": [
        "np.transpose(arr2)"
      ],
      "id": "XKra9PZTdfVP"
    },
    {
      "cell_type": "code",
      "execution_count": null,
      "metadata": {
        "id": "vcZZZ-MsdfVP",
        "outputId": "237f6a42-f0a4-46c2-cb06-50c6dd37251a"
      },
      "outputs": [
        {
          "data": {
            "text/plain": [
              "array([[1, 4],\n",
              "       [2, 5],\n",
              "       [3, 6]])"
            ]
          },
          "execution_count": 55,
          "metadata": {},
          "output_type": "execute_result"
        }
      ],
      "source": [
        "arr2.T"
      ],
      "id": "vcZZZ-MsdfVP"
    },
    {
      "cell_type": "markdown",
      "metadata": {
        "id": "NEXJWyH3dfVP"
      },
      "source": [
        "# Matplotlib for plotting"
      ],
      "id": "NEXJWyH3dfVP"
    },
    {
      "cell_type": "code",
      "execution_count": null,
      "metadata": {
        "id": "PHQJmORudfVP"
      },
      "outputs": [],
      "source": [
        "import matplotlib.pyplot as plt"
      ],
      "id": "PHQJmORudfVP"
    },
    {
      "cell_type": "markdown",
      "metadata": {
        "id": "GB_hVng1dfVP"
      },
      "source": [
        "## 1. Line plot"
      ],
      "id": "GB_hVng1dfVP"
    },
    {
      "cell_type": "code",
      "execution_count": null,
      "metadata": {
        "id": "OM-ETEz2dfVP",
        "outputId": "d07519e3-9237-4366-f272-f93339910163"
      },
      "outputs": [
        {
          "data": {
            "text/plain": [
              "array([ 1,  2,  3,  4,  5,  6,  7,  8,  9, 10])"
            ]
          },
          "execution_count": 57,
          "metadata": {},
          "output_type": "execute_result"
        }
      ],
      "source": [
        "x=np.arange(1,11) #np.arange(start,end) generates a sequence of numbers from start to end-1\n",
        "x"
      ],
      "id": "OM-ETEz2dfVP"
    },
    {
      "cell_type": "code",
      "execution_count": null,
      "metadata": {
        "id": "aw2LmuuidfVP"
      },
      "outputs": [],
      "source": [
        "y=x*2"
      ],
      "id": "aw2LmuuidfVP"
    },
    {
      "cell_type": "code",
      "execution_count": null,
      "metadata": {
        "id": "kSZO6DfDdfVP",
        "outputId": "74fecc50-c266-4e5b-e86d-a440aaf7110c"
      },
      "outputs": [
        {
          "data": {
            "text/plain": [
              "array([ 2,  4,  6,  8, 10, 12, 14, 16, 18, 20])"
            ]
          },
          "execution_count": 59,
          "metadata": {},
          "output_type": "execute_result"
        }
      ],
      "source": [
        "y"
      ],
      "id": "kSZO6DfDdfVP"
    },
    {
      "cell_type": "code",
      "execution_count": null,
      "metadata": {
        "id": "rnK5KBBVdfVP",
        "outputId": "fd99cb32-39a9-4afb-ae08-cde441916fc5"
      },
      "outputs": [
        {
          "data": {
            "image/png": "[encoded data removed]",
            "text/plain": [
              "<Figure size 432x288 with 1 Axes>"
            ]
          },
          "metadata": {
            "needs_background": "light"
          },
          "output_type": "display_data"
        }
      ],
      "source": [
        "plt.plot(x,y)\n",
        "plt.show()"
      ],
      "id": "rnK5KBBVdfVP"
    },
    {
      "cell_type": "code",
      "execution_count": null,
      "metadata": {
        "id": "1mgdZG1cdfVQ",
        "outputId": "592aade4-12a6-4681-b6ce-6f52f7ddde6d"
      },
      "outputs": [
        {
          "data": {
            "image/png": "[encoded data removed]",
            "text/plain": [
              "<Figure size 432x288 with 1 Axes>"
            ]
          },
          "metadata": {
            "needs_background": "light"
          },
          "output_type": "display_data"
        }
      ],
      "source": [
        "plt.plot(x,y)\n",
        "plt.title(\"Line plot\")\n",
        "plt.xlabel(\"x-lable\")\n",
        "plt.ylabel(\"y-lable\")\n",
        "plt.grid(True)\n",
        "plt.show()"
      ],
      "id": "1mgdZG1cdfVQ"
    },
    {
      "cell_type": "code",
      "execution_count": null,
      "metadata": {
        "id": "aujIH30BdfVQ",
        "outputId": "f73221c6-7b85-43e1-b1de-8df5a6f33450"
      },
      "outputs": [
        {
          "data": {
            "text/plain": [
              "array([ 3,  6,  9, 12, 15, 18, 21, 24, 27, 30])"
            ]
          },
          "execution_count": 62,
          "metadata": {},
          "output_type": "execute_result"
        }
      ],
      "source": [
        "z=x*3\n",
        "z"
      ],
      "id": "aujIH30BdfVQ"
    },
    {
      "cell_type": "code",
      "execution_count": null,
      "metadata": {
        "id": "J8aj-PpkdfVQ",
        "outputId": "ecca88a9-ff71-40e6-fd2b-4c9ee2547b4a"
      },
      "outputs": [
        {
          "data": {
            "image/png": "[encoded data removed]",
            "text/plain": [
              "<Figure size 720x504 with 1 Axes>"
            ]
          },
          "metadata": {
            "needs_background": "light"
          },
          "output_type": "display_data"
        }
      ],
      "source": [
        "plt.figure(figsize=(10,7))\n",
        "plt.plot(x,y,color='r')\n",
        "plt.plot(x,z,color='g')\n",
        "plt.show()"
      ],
      "id": "J8aj-PpkdfVQ"
    },
    {
      "cell_type": "markdown",
      "metadata": {
        "id": "rOj_qGKZdfVQ"
      },
      "source": [
        "## 2. BarGraph"
      ],
      "id": "rOj_qGKZdfVQ"
    },
    {
      "cell_type": "code",
      "execution_count": null,
      "metadata": {
        "id": "OFMtzxR7dfVQ"
      },
      "outputs": [],
      "source": [
        "name=['Sam','Amit','Deepak','Tarun']\n",
        "age=[87,23,45,32]"
      ],
      "id": "OFMtzxR7dfVQ"
    },
    {
      "cell_type": "code",
      "execution_count": null,
      "metadata": {
        "id": "UCeFq5u3dfVQ",
        "outputId": "5852b9af-df09-4922-fc3c-43ff1b41a5ca"
      },
      "outputs": [
        {
          "data": {
            "image/png": "[encoded data removed]",
            "text/plain": [
              "<Figure size 432x288 with 1 Axes>"
            ]
          },
          "metadata": {
            "needs_background": "light"
          },
          "output_type": "display_data"
        }
      ],
      "source": [
        "plt.bar(name,age)\n",
        "plt.title(\"Barplot\")\n",
        "plt.xlabel(\"Name\")\n",
        "plt.ylabel(\"Age\")\n",
        "plt.show()"
      ],
      "id": "UCeFq5u3dfVQ"
    },
    {
      "cell_type": "code",
      "execution_count": null,
      "metadata": {
        "id": "D5rq2yhsdfVR",
        "outputId": "28f1438a-c44e-4c27-892e-cde3d30228ce"
      },
      "outputs": [
        {
          "data": {
            "image/png": "[encoded data removed]",
            "text/plain": [
              "<Figure size 432x288 with 1 Axes>"
            ]
          },
          "metadata": {
            "needs_background": "light"
          },
          "output_type": "display_data"
        }
      ],
      "source": [
        "plt.bar(name,age,color=['red','yellow','green','blue'])\n",
        "plt.title(\"Barplot\")\n",
        "plt.xlabel(\"Name\")\n",
        "plt.ylabel(\"Age\")\n",
        "plt.show()"
      ],
      "id": "D5rq2yhsdfVR"
    },
    {
      "cell_type": "markdown",
      "metadata": {
        "id": "x75YGnNIdfVR"
      },
      "source": [
        "## 3. scatter plot"
      ],
      "id": "x75YGnNIdfVR"
    },
    {
      "cell_type": "code",
      "execution_count": null,
      "metadata": {
        "id": "2fdQ_qiTdfVR"
      },
      "outputs": [],
      "source": [
        "x=[10,20,30,40,50,60,70,80,90]\n",
        "y=[8,1,7,2,0,3,7,8,9]"
      ],
      "id": "2fdQ_qiTdfVR"
    },
    {
      "cell_type": "code",
      "execution_count": null,
      "metadata": {
        "id": "u8AhR704dfVR",
        "outputId": "4b5d0be5-16aa-485f-94b4-8e40a15530ee"
      },
      "outputs": [
        {
          "data": {
            "image/png": "[encoded data removed]",
            "text/plain": [
              "<Figure size 432x288 with 1 Axes>"
            ]
          },
          "metadata": {
            "needs_background": "light"
          },
          "output_type": "display_data"
        }
      ],
      "source": [
        "plt.scatter(x,y)\n",
        "plt.show()"
      ],
      "id": "u8AhR704dfVR"
    },
    {
      "cell_type": "code",
      "execution_count": null,
      "metadata": {
        "id": "zrxmBNN3dfVR",
        "outputId": "e619f1b0-83be-4f26-9cc1-c3d2676996d8"
      },
      "outputs": [
        {
          "data": {
            "image/png": "[encoded data removed]",
            "text/plain": [
              "<Figure size 432x288 with 1 Axes>"
            ]
          },
          "metadata": {
            "needs_background": "light"
          },
          "output_type": "display_data"
        }
      ],
      "source": [
        "plt.scatter(x,y,color='g',marker='^',linewidths=3) #other possible markers s,^,*,o\n",
        "plt.show()"
      ],
      "id": "zrxmBNN3dfVR"
    },
    {
      "cell_type": "code",
      "execution_count": null,
      "metadata": {
        "id": "CvQMdvgVdfVS",
        "outputId": "68d35dd3-d38e-481c-8fc7-273da025a310"
      },
      "outputs": [
        {
          "data": {
            "image/png": "[encoded data removed]",
            "text/plain": [
              "<Figure size 432x288 with 1 Axes>"
            ]
          },
          "metadata": {
            "needs_background": "light"
          },
          "output_type": "display_data"
        }
      ],
      "source": [
        "plt.plot(x,y)\n",
        "plt.scatter(x,y,color='g',marker='s',linewidths=3) #s,^,*,o\n",
        "plt.show()"
      ],
      "id": "CvQMdvgVdfVS"
    },
    {
      "cell_type": "markdown",
      "metadata": {
        "id": "fpHQqbEjdfVS"
      },
      "source": [
        "## 4. piechart:"
      ],
      "id": "fpHQqbEjdfVS"
    },
    {
      "cell_type": "code",
      "execution_count": null,
      "metadata": {
        "id": "Nt6rB8xAdfVS"
      },
      "outputs": [],
      "source": [
        "frt=['Apple','Orange','Mango']\n",
        "qty=[67,34,100]"
      ],
      "id": "Nt6rB8xAdfVS"
    },
    {
      "cell_type": "code",
      "execution_count": null,
      "metadata": {
        "id": "Sr589SxNdfVS",
        "outputId": "b19ed48a-89f0-4cfb-8b90-724403ce2b8a"
      },
      "outputs": [
        {
          "data": {
            "image/png": "[encoded data removed]",
            "text/plain": [
              "<Figure size 432x288 with 1 Axes>"
            ]
          },
          "metadata": {},
          "output_type": "display_data"
        }
      ],
      "source": [
        "plt.pie(qty,labels=frt)\n",
        "plt.show()"
      ],
      "id": "Sr589SxNdfVS"
    },
    {
      "cell_type": "code",
      "execution_count": null,
      "metadata": {
        "id": "tSDx_nyldfVS",
        "outputId": "6f1d58ee-0d82-4c62-e71e-a12eecf30bcc"
      },
      "outputs": [
        {
          "data": {
            "image/png": "[encoded data removed]",
            "text/plain": [
              "<Figure size 432x288 with 1 Axes>"
            ]
          },
          "metadata": {},
          "output_type": "display_data"
        }
      ],
      "source": [
        "plt.pie(qty,labels=frt,autopct=\"%0.1f%%\",colors=['red','orange','yellow'])\n",
        "plt.show()"
      ],
      "id": "tSDx_nyldfVS"
    }
  ],
  "metadata": {
    "kernelspec": {
      "display_name": "Python 3",
      "language": "python",
      "name": "python3"
    },
    "language_info": {
      "codemirror_mode": {
        "name": "ipython",
        "version": 3
      },
      "file_extension": ".py",
      "mimetype": "text/x-python",
      "name": "python",
      "nbconvert_exporter": "python",
      "pygments_lexer": "ipython3",
      "version": "3.8.5"
    },
    "colab": {
      "provenance": []
    }
  },
  "nbformat": 4,
  "nbformat_minor": 5
}