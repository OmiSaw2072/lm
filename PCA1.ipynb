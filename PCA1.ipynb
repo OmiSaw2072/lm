{
  "cells": [
    {
      "cell_type": "code",
      "execution_count": 2,
      "metadata": {
        "id": "X-Wf0lMqROab"
      },
      "outputs": [],
      "source": [
        "# the code for importing and splitting the dataset\n",
        "import sklearn\n",
        "from sklearn.datasets import  load_digits\n",
        "digits = load_digits()\n",
        "X = digits.data\n",
        "y = digits.target"
      ]
    },
    {
      "cell_type": "code",
      "execution_count": null,
      "metadata": {
        "id": "LYz3Odq1ROad",
        "outputId": "1439e183-033f-4c2d-d174-48c77e1834f9"
      },
      "outputs": [
        {
          "data": {
            "text/plain": [
              "(1797, 64)"
            ]
          },
          "execution_count": 3,
          "metadata": {},
          "output_type": "execute_result"
        }
      ],
      "source": [
        "X.shape"
      ]
    },
    {
      "cell_type": "code",
      "execution_count": null,
      "metadata": {
        "id": "SO7XqFMZROae",
        "outputId": "888c39e1-695b-444a-db33-4dd410c048d3"
      },
      "outputs": [
        {
          "name": "stdout",
          "output_type": "stream",
          "text": [
            "(1437, 64)\n"
          ]
        }
      ],
      "source": [
        "from sklearn.model_selection import train_test_split\n",
        "X_train, X_test, y_train, y_test = train_test_split(X, y, test_size=0.2,\n",
        "random_state=1)\n",
        "print(X_train.shape)"
      ]
    },
    {
      "cell_type": "code",
      "execution_count": null,
      "metadata": {
        "id": "fXd5WR-pROaf",
        "outputId": "0b79d1f2-7b24-4eaa-d5e3-6b524c461816"
      },
      "outputs": [
        {
          "name": "stdout",
          "output_type": "stream",
          "text": [
            "(1437, 28)\n",
            "(360, 64)\n",
            "(360, 28)\n"
          ]
        }
      ],
      "source": [
        "# Transforming the train and test sets such that they explain 95% of variance\n",
        "from sklearn.decomposition import PCA\n",
        "sklearn_pca = PCA(n_components=0.95)\n",
        "sklearn_pca.fit(X_train)\n",
        "X_train_transformed = sklearn_pca.transform(X_train)\n",
        "print(X_train_transformed.shape)\n",
        "print(X_test.shape)\n",
        "X_test_transformed =sklearn_pca.transform(X_test)\n",
        "print(X_test_transformed.shape)"
      ]
    },
    {
      "cell_type": "code",
      "execution_count": null,
      "metadata": {
        "id": "YXrc0Wx8ROaf"
      },
      "outputs": [],
      "source": []
    }
  ],
  "metadata": {
    "kernelspec": {
      "display_name": "Python 3",
      "language": "python",
      "name": "python3"
    },
    "language_info": {
      "codemirror_mode": {
        "name": "ipython",
        "version": 3
      },
      "file_extension": ".py",
      "mimetype": "text/x-python",
      "name": "python",
      "nbconvert_exporter": "python",
      "pygments_lexer": "ipython3",
      "version": "3.8.5"
    },
    "colab": {
      "provenance": []
    }
  },
  "nbformat": 4,
  "nbformat_minor": 0
}